{
 "cells": [
  {
   "cell_type": "code",
   "execution_count": 1,
   "id": "ea6bbd17-300b-4c70-af5e-877681b23e74",
   "metadata": {},
   "outputs": [],
   "source": [
    "!python3 -m venv genai-fake-article\n",
    "!source genai-fake-article/bin/activate"
   ]
  },
  {
   "cell_type": "code",
   "execution_count": null,
   "id": "ef810291-30f6-41d4-8070-9643c67d35c4",
   "metadata": {},
   "outputs": [],
   "source": [
    "!pip install transformers torch datasets"
   ]
  },
  {
   "cell_type": "code",
   "execution_count": 4,
   "id": "7f8c0bd9-7abc-4796-b8c7-3b03815e1e5e",
   "metadata": {},
   "outputs": [
    {
     "name": "stdout",
     "output_type": "stream",
     "text": [
      "Structure created successfully!\n"
     ]
    }
   ],
   "source": [
    "# create folder/files structure\n",
    "\n",
    "import os\n",
    "\n",
    "folders = [\n",
    "    'genai-fake-article/data',\n",
    "    'genai-fake-article/models',\n",
    "    'genai-fake-article/scripts',\n",
    "    'genai-fake-article/outputs',\n",
    "]\n",
    "\n",
    "files = [\n",
    "    'genai-fake-article/README.md',\n",
    "]\n",
    "\n",
    "for folder in folders:\n",
    "    os.makedirs(folder, exist_ok=True)\n",
    "\n",
    "for file_path in files:\n",
    "    open(file_path, 'w').close()\n",
    "\n",
    "print(\"Structure created successfully!\")"
   ]
  }
 ],
 "metadata": {
  "kernelspec": {
   "display_name": "Python 3 (ipykernel)",
   "language": "python",
   "name": "python3"
  },
  "language_info": {
   "codemirror_mode": {
    "name": "ipython",
    "version": 3
   },
   "file_extension": ".py",
   "mimetype": "text/x-python",
   "name": "python",
   "nbconvert_exporter": "python",
   "pygments_lexer": "ipython3",
   "version": "3.11.5"
  }
 },
 "nbformat": 4,
 "nbformat_minor": 5
}
